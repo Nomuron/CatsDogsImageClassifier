{
 "cells": [
  {
   "cell_type": "code",
   "execution_count": 45,
   "metadata": {
    "_cell_guid": "b1076dfc-b9ad-4769-8c92-a6c4dae69d19",
    "_uuid": "8f2839f25d086af736a60e9eeb907d3b93b6e0e5"
   },
   "outputs": [],
   "source": [
    "import numpy as np\n",
    "import pandas as pd\n",
    "import tensorflow as tf\n",
    "from keras.preprocessing import image\n",
    "from keras.preprocessing.image import ImageDataGenerator\n",
    "from keras.models import Sequential\n",
    "from keras.layers import Dense, Flatten, Dropout, Activation, Conv2D, MaxPooling2D\n",
    "from keras import backend as K"
   ]
  },
  {
   "cell_type": "code",
   "execution_count": 33,
   "metadata": {
    "_cell_guid": "79c7e3d0-c299-4dcb-8224-4455121ee9b0",
    "_uuid": "d629ff2d2480ee46fbb7e2d37f6b5fab8052498a"
   },
   "outputs": [],
   "source": [
    "img_width, img_height = 150, 150\n",
    "\n",
    "train_data_dir = 'data/train'\n",
    "validation_data_dir = 'data/test'\n",
    "nb_train_sample = 1000\n",
    "nb_validation_samples = 100\n",
    "epochs_number = 20\n",
    "batch_size = 20"
   ]
  },
  {
   "cell_type": "code",
   "execution_count": 34,
   "metadata": {},
   "outputs": [],
   "source": [
    "if K.image_data_format() == 'channels_first':\n",
    "    input_shape = (3, img_width, img_height)\n",
    "else:\n",
    "    input_shape = (img_width, img_height, 3)"
   ]
  },
  {
   "cell_type": "code",
   "execution_count": 35,
   "metadata": {},
   "outputs": [],
   "source": [
    "train_datagen = ImageDataGenerator(\n",
    "    rescale = 1. / 255,\n",
    "    shear_range = 0.2,\n",
    "    zoom_range = 0.2,\n",
    "    horizontal_flip = True)"
   ]
  },
  {
   "cell_type": "code",
   "execution_count": 36,
   "metadata": {},
   "outputs": [],
   "source": [
    "test_datagen = ImageDataGenerator(rescale = 1. / 255)"
   ]
  },
  {
   "cell_type": "code",
   "execution_count": 37,
   "metadata": {},
   "outputs": [
    {
     "name": "stdout",
     "output_type": "stream",
     "text": [
      "Found 8005 images belonging to 2 classes.\n"
     ]
    }
   ],
   "source": [
    "train_generator = train_datagen.flow_from_directory(\n",
    "    train_data_dir,\n",
    "    target_size = (img_width, img_height),\n",
    "    batch_size = batch_size,\n",
    "    class_mode = 'binary')"
   ]
  },
  {
   "cell_type": "code",
   "execution_count": 38,
   "metadata": {},
   "outputs": [
    {
     "name": "stdout",
     "output_type": "stream",
     "text": [
      "Found 2023 images belonging to 2 classes.\n"
     ]
    }
   ],
   "source": [
    "validation_generator = test_datagen.flow_from_directory(\n",
    "    validation_data_dir,\n",
    "    target_size = (img_width, img_height),\n",
    "    batch_size = batch_size,\n",
    "    class_mode = 'binary')"
   ]
  },
  {
   "cell_type": "code",
   "execution_count": 39,
   "metadata": {},
   "outputs": [
    {
     "name": "stdout",
     "output_type": "stream",
     "text": [
      "Model: \"sequential_3\"\n",
      "_________________________________________________________________\n",
      "Layer (type)                 Output Shape              Param #   \n",
      "=================================================================\n",
      "conv2d_7 (Conv2D)            (None, 148, 148, 32)      896       \n",
      "_________________________________________________________________\n",
      "activation_11 (Activation)   (None, 148, 148, 32)      0         \n",
      "_________________________________________________________________\n",
      "max_pooling2d_7 (MaxPooling2 (None, 74, 74, 32)        0         \n",
      "_________________________________________________________________\n",
      "conv2d_8 (Conv2D)            (None, 72, 72, 32)        9248      \n",
      "_________________________________________________________________\n",
      "activation_12 (Activation)   (None, 72, 72, 32)        0         \n",
      "_________________________________________________________________\n",
      "max_pooling2d_8 (MaxPooling2 (None, 36, 36, 32)        0         \n",
      "_________________________________________________________________\n",
      "conv2d_9 (Conv2D)            (None, 34, 34, 64)        18496     \n",
      "_________________________________________________________________\n",
      "activation_13 (Activation)   (None, 34, 34, 64)        0         \n",
      "_________________________________________________________________\n",
      "max_pooling2d_9 (MaxPooling2 (None, 17, 17, 64)        0         \n",
      "_________________________________________________________________\n",
      "flatten_3 (Flatten)          (None, 18496)             0         \n",
      "_________________________________________________________________\n",
      "dense_5 (Dense)              (None, 64)                1183808   \n",
      "_________________________________________________________________\n",
      "activation_14 (Activation)   (None, 64)                0         \n",
      "_________________________________________________________________\n",
      "dropout_3 (Dropout)          (None, 64)                0         \n",
      "_________________________________________________________________\n",
      "dense_6 (Dense)              (None, 1)                 65        \n",
      "_________________________________________________________________\n",
      "activation_15 (Activation)   (None, 1)                 0         \n",
      "=================================================================\n",
      "Total params: 1,212,513\n",
      "Trainable params: 1,212,513\n",
      "Non-trainable params: 0\n",
      "_________________________________________________________________\n"
     ]
    }
   ],
   "source": [
    "model = Sequential()\n",
    "model.add(Conv2D(32, (3, 3), input_shape = input_shape))\n",
    "model.add(Activation('relu'))\n",
    "model.add(MaxPooling2D(pool_size = (2, 2)))\n",
    "\n",
    "model.add(Conv2D(32, (3, 3)))\n",
    "model.add(Activation('relu'))\n",
    "model.add(MaxPooling2D(pool_size = (2, 2)))\n",
    "\n",
    "model.add(Conv2D(64, (3, 3)))\n",
    "model.add(Activation('relu'))\n",
    "model.add(MaxPooling2D(pool_size = (2, 2)))\n",
    "\n",
    "model.add(Flatten())\n",
    "model.add(Dense(64))\n",
    "model.add(Activation('relu'))\n",
    "model.add(Dropout(0.5))\n",
    "model.add(Dense(1))\n",
    "model.add(Activation('sigmoid'))\n",
    "\n",
    "model.summary()"
   ]
  },
  {
   "cell_type": "code",
   "execution_count": 40,
   "metadata": {},
   "outputs": [],
   "source": [
    "model.compile(loss = 'binary_crossentropy',\n",
    "             optimizer = 'rmsprop',\n",
    "             metrics = ['accuracy'])"
   ]
  },
  {
   "cell_type": "code",
   "execution_count": 51,
   "metadata": {},
   "outputs": [],
   "source": [
    "class myCallback(tf.keras.callbacks.Callback):\n",
    "    def on_epoch_end(self, epochs, logs={}):\n",
    "        if(logs.get('val_accuracy')>0.99):\n",
    "            print(\"\\nReached 99% accuracy so cancelling training!\")\n",
    "            self.model.stop_training=True"
   ]
  },
  {
   "cell_type": "code",
   "execution_count": 52,
   "metadata": {},
   "outputs": [],
   "source": [
    "made_callback = myCallback()"
   ]
  },
  {
   "cell_type": "code",
   "execution_count": 53,
   "metadata": {},
   "outputs": [
    {
     "name": "stdout",
     "output_type": "stream",
     "text": [
      "Epoch 1/20\n",
      "1000/1000 [==============================] - 258s 258ms/step - loss: 0.4815 - accuracy: 0.7796 - val_loss: 0.4593 - val_accuracy: 0.7605\n",
      "Epoch 2/20\n",
      "1000/1000 [==============================] - 245s 245ms/step - loss: 0.4555 - accuracy: 0.7993 - val_loss: 0.3677 - val_accuracy: 0.8195\n",
      "Epoch 3/20\n",
      "1000/1000 [==============================] - 241s 241ms/step - loss: 0.4405 - accuracy: 0.8063 - val_loss: 0.2829 - val_accuracy: 0.8139\n",
      "Epoch 4/20\n",
      "1000/1000 [==============================] - 245s 245ms/step - loss: 0.4402 - accuracy: 0.8078 - val_loss: 0.5968 - val_accuracy: 0.7867\n",
      "Epoch 5/20\n",
      "1000/1000 [==============================] - 257s 257ms/step - loss: 0.4279 - accuracy: 0.8152 - val_loss: 0.3388 - val_accuracy: 0.8210\n",
      "Epoch 6/20\n",
      "1000/1000 [==============================] - 240s 240ms/step - loss: 0.4177 - accuracy: 0.8172 - val_loss: 0.8778 - val_accuracy: 0.8371\n",
      "Epoch 7/20\n",
      "1000/1000 [==============================] - 244s 244ms/step - loss: 0.4215 - accuracy: 0.8221 - val_loss: 0.2790 - val_accuracy: 0.8517\n",
      "Epoch 8/20\n",
      "1000/1000 [==============================] - 248s 248ms/step - loss: 0.4158 - accuracy: 0.8268 - val_loss: 0.3799 - val_accuracy: 0.8290\n",
      "Epoch 9/20\n",
      "1000/1000 [==============================] - 238s 238ms/step - loss: 0.4112 - accuracy: 0.8285 - val_loss: 0.5219 - val_accuracy: 0.7756\n",
      "Epoch 10/20\n",
      "1000/1000 [==============================] - 233s 233ms/step - loss: 0.4098 - accuracy: 0.8307 - val_loss: 0.1132 - val_accuracy: 0.8659\n",
      "Epoch 11/20\n",
      "1000/1000 [==============================] - 232s 232ms/step - loss: 0.3943 - accuracy: 0.8389 - val_loss: 0.3033 - val_accuracy: 0.7948\n",
      "Epoch 12/20\n",
      "1000/1000 [==============================] - 232s 232ms/step - loss: 0.3947 - accuracy: 0.8375 - val_loss: 0.5787 - val_accuracy: 0.8548\n",
      "Epoch 13/20\n",
      "1000/1000 [==============================] - 229s 229ms/step - loss: 0.3959 - accuracy: 0.8408 - val_loss: 0.2505 - val_accuracy: 0.8502\n",
      "Epoch 14/20\n",
      "1000/1000 [==============================] - 234s 234ms/step - loss: 0.3926 - accuracy: 0.8409 - val_loss: 0.4433 - val_accuracy: 0.8240\n",
      "Epoch 15/20\n",
      "1000/1000 [==============================] - 236s 236ms/step - loss: 0.3869 - accuracy: 0.8441 - val_loss: 0.5430 - val_accuracy: 0.8336\n",
      "Epoch 16/20\n",
      "1000/1000 [==============================] - 241s 241ms/step - loss: 0.3918 - accuracy: 0.8403 - val_loss: 0.2200 - val_accuracy: 0.8472\n",
      "Epoch 17/20\n",
      "1000/1000 [==============================] - 236s 236ms/step - loss: 0.3984 - accuracy: 0.8403 - val_loss: 0.2791 - val_accuracy: 0.8649\n",
      "Epoch 18/20\n",
      "1000/1000 [==============================] - 233s 233ms/step - loss: 0.3990 - accuracy: 0.8388 - val_loss: 0.3750 - val_accuracy: 0.8447\n",
      "Epoch 19/20\n",
      "1000/1000 [==============================] - 237s 237ms/step - loss: 0.4000 - accuracy: 0.8387 - val_loss: 0.2097 - val_accuracy: 0.8296\n",
      "Epoch 20/20\n",
      "1000/1000 [==============================] - 230s 230ms/step - loss: 0.3922 - accuracy: 0.8420 - val_loss: 0.4205 - val_accuracy: 0.8311\n"
     ]
    },
    {
     "data": {
      "text/plain": [
       "<keras.callbacks.callbacks.History at 0x7fbbb64c4210>"
      ]
     },
     "execution_count": 53,
     "metadata": {},
     "output_type": "execute_result"
    }
   ],
   "source": [
    "model.fit_generator(\n",
    "    train_generator,\n",
    "    steps_per_epoch = nb_train_sample,\n",
    "    epochs = epochs_number,\n",
    "    validation_data = validation_generator,\n",
    "    validation_steps = nb_validation_samples,\n",
    "    callbacks=[made_callback]\n",
    "    )"
   ]
  },
  {
   "cell_type": "code",
   "execution_count": 57,
   "metadata": {},
   "outputs": [],
   "source": [
    "img_pred = image.load_img('data/test/dogs/dog.4041.jpg', target_size = (150, 150))\n",
    "img_pred = image.img_to_array(img_pred)\n",
    "img_pred = np.expand_dims(img_pred, axis = 0)"
   ]
  },
  {
   "cell_type": "code",
   "execution_count": 58,
   "metadata": {},
   "outputs": [
    {
     "name": "stdout",
     "output_type": "stream",
     "text": [
      "[[1.]]\n",
      "dog\n"
     ]
    }
   ],
   "source": [
    "result = model.predict(img_pred)\n",
    "print (result)\n",
    "if result[0][0] == 1:\n",
    "    prediction = 'dog'\n",
    "else:\n",
    "    prediction = 'cat'\n",
    "    \n",
    "print (prediction)"
   ]
  },
  {
   "cell_type": "code",
   "execution_count": null,
   "metadata": {},
   "outputs": [],
   "source": []
  }
 ],
 "metadata": {
  "kernelspec": {
   "display_name": "Python 3",
   "language": "python",
   "name": "python3"
  },
  "language_info": {
   "codemirror_mode": {
    "name": "ipython",
    "version": 3
   },
   "file_extension": ".py",
   "mimetype": "text/x-python",
   "name": "python",
   "nbconvert_exporter": "python",
   "pygments_lexer": "ipython3",
   "version": "3.7.4"
  }
 },
 "nbformat": 4,
 "nbformat_minor": 1
}
